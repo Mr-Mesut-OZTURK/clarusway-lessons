{
 "cells": [
  {
   "cell_type": "code",
   "execution_count": null,
   "metadata": {},
   "outputs": [],
   "source": [
    "\"\"\"\n",
    "####################################################################\n",
    "\n",
    "        + list() sadece ITERABLE olan ifadeleri kabul eder\n",
    "        + list() iterable'nin tüm elemanlarını tek tek yazar\n",
    "\n",
    "        + [] herşeyi kabul eder\n",
    "        + [] verilen şekilde yazdırır\n",
    "\n",
    "        iterable, ordered, mutable\n",
    "\n",
    "###################################################################\n",
    "\"\"\"\n",
    "\n",
    "\n",
    "string_1 = 'I quit smoking'\n",
    "\n",
    "new_list_1 = list(string_1)  # # elemenları tek tek alır yazdırır, çok elemenlı bir string olduğu için, çok eleman alır\n",
    "print(new_list_1)\n",
    "\n",
    "new_list_2 = [string_1]  # # listenin içine verilen 1 elemanı koyar\n",
    "print(new_list_2)\n"
   ]
  },
  {
   "cell_type": "code",
   "execution_count": null,
   "metadata": {},
   "outputs": [],
   "source": [
    "string_1 = 12345\n",
    "\n",
    "# new_list_1 = list(string_1)  # hata verir\n",
    "# print(new_list_1)\n",
    "\n",
    "new_list_2 = [string_1]  # listenin içine verilen 1 elemanı koyar\n",
    "print(new_list_2)\n"
   ]
  },
  {
   "cell_type": "code",
   "execution_count": null,
   "metadata": {},
   "outputs": [],
   "source": [
    "string_1 = True\n",
    "\n",
    "# new_list_1 = list(string_1)  #  hata verir\n",
    "# print(new_list_1)\n",
    "\n",
    "new_list_2 = [string_1]  # listenin içine verilen 1 elemanı koyar\n",
    "print(new_list_2)"
   ]
  },
  {
   "cell_type": "code",
   "execution_count": null,
   "metadata": {},
   "outputs": [],
   "source": [
    "string_1 = ['I quit smoking']\n",
    "\n",
    "new_list_1 = list(string_1)  # elemenları tek tek alır yazdırır, tek elemenlı bir liste olduğu için, tek eleman alır\n",
    "print(new_list_1)\n",
    "\n",
    "new_list_2 = [string_1]  # listenin içine verilen 1 elemanı koyar listenin elemanı liste\n",
    "print(new_list_2)"
   ]
  },
  {
   "cell_type": "code",
   "execution_count": null,
   "metadata": {},
   "outputs": [],
   "source": [
    "string_1 = ['I quit smoking', 'ala']\n",
    "\n",
    "new_list_1 = list(string_1)  # elemenları tek tek alır yazdırır, iki elemenlı bir liste olduğu için, iki eleman alır\n",
    "print(new_list_1)\n",
    "\n",
    "new_list_2 = [string_1]  # listenin içine verilen 1 elemanı koyar\n",
    "print(new_list_2)"
   ]
  },
  {
   "cell_type": "code",
   "execution_count": null,
   "metadata": {},
   "outputs": [],
   "source": [
    "string_1 = 'I quit smoking', 'ala'\n",
    "\n",
    "new_list_1 = list(string_1)  # elemenları tek tek alır yazdırır, iki elemenlı bir liste olduğu için, iki eleman alır\n",
    "print(new_list_1)\n",
    "\n",
    "new_list_2 = [string_1]  # listenin içine verilen 1 elemanı koyar tuple olur\n",
    "print(new_list_2)"
   ]
  },
  {
   "cell_type": "code",
   "execution_count": null,
   "metadata": {},
   "outputs": [],
   "source": [
    "string_1 = {'I quit smoking', 'ala'}\n",
    "\n",
    "new_list_1 = list(string_1)  # elemenları tek tek alır yazdırır, iki elemenlı bir liste olduğu için, iki eleman alır\n",
    "print(new_list_1)\n",
    "\n",
    "new_list_2 = [string_1]  # listenin içine verilen 1 elemanı koyar\n",
    "print(new_list_2)"
   ]
  },
  {
   "cell_type": "code",
   "execution_count": null,
   "metadata": {},
   "outputs": [],
   "source": [
    "string_1 = {1 : 'I quit smoking', 2 : 'ala'}\n",
    "\n",
    "new_list_1 = list(string_1)  # elemenları tek tek alır yazdırır, iki elemenlı bir liste olduğu için, iki eleman alır\n",
    "print(new_list_1)\n",
    "\n",
    "new_list_2 = [string_1]  # listenin içine verilen 1 elemanı koyar\n",
    "print(new_list_2)"
   ]
  },
  {
   "cell_type": "code",
   "execution_count": null,
   "metadata": {},
   "outputs": [],
   "source": [
    "###############################################################################################\n",
    "###############################################################################################\n"
   ]
  },
  {
   "cell_type": "code",
   "execution_count": null,
   "metadata": {},
   "outputs": [],
   "source": [
    "\"\"\"\n",
    "-----------------Basic Operations with Lists----------------------\n",
    "        # string ifadeyle denedim, hiçbiri çalışmadı\n",
    "        # a = \"ali\"\n",
    "        # a.append()  hata verir\n",
    "\n",
    "+ list.append()\n",
    "+ list.insert(index, object)\n",
    "+ list.remove() \n",
    "+ list.sort()\n",
    "+ list.clear()   # listeyi tamamen boşaltır\n",
    "+ list.copy()    # list1 = list2 tek hafıza 2 değişken\n",
    "                 # list1 = list2.copy()  2 hafıza 2 değişken\n",
    "+ list.extend(a)  => list = list + a # a iterable olan herhangi\n",
    "                                     # birşey olabilir  \n",
    "+ list.pop(index no)\n",
    "+ list.reverse()\n",
    "+ list.index()\n",
    "+ list.del() \n",
    "+ list.count() \n",
    "\n",
    "\"\"\"\n",
    "\n",
    "#################  boş liste atama   ###################\n",
    "\n",
    "city= []\n",
    "\n",
    "city = list()\n",
    "\n",
    "############       append      #######################\n",
    "\n",
    "city.append('Addis Ababa')\n",
    "print(city) \n",
    "\n",
    "############### insert     ##############################\n",
    "\n",
    "city.insert(0, 'Stockholm') # index i istersen 30 ver hata vermez\n",
    "print(city)\n",
    "\n",
    "############ sort ############################\n",
    "\n",
    "city.sort()  # lists the items in alphabetical order\n",
    "print(city) \n",
    "\n",
    "############### len ######################\n",
    "\n",
    "print(len(city))\n",
    "\n",
    "###########  remove ######################\n",
    "\n",
    "city.remove('Addis Ababa')\n",
    "print(city)  # we have deleted 'London'\n",
    "\n",
    "#####################################"
   ]
  },
  {
   "cell_type": "code",
   "execution_count": null,
   "metadata": {},
   "outputs": [],
   "source": [
    "my_list = 1, 3, 5, 7\n",
    "print(my_list * 3)\n",
    "print(list(my_list) * 3)"
   ]
  },
  {
   "cell_type": "code",
   "execution_count": null,
   "metadata": {},
   "outputs": [],
   "source": [
    "my_list = [1, 3, 5, 7]\n",
    "print(my_list * 3)\n",
    "print(list(my_list) * 3)"
   ]
  },
  {
   "cell_type": "code",
   "execution_count": null,
   "metadata": {},
   "outputs": [],
   "source": [
    "my_list = [[1, 3, 5, 7]]\n",
    "print(my_list * 3)\n",
    "print(list(my_list) * 3)"
   ]
  },
  {
   "cell_type": "code",
   "execution_count": null,
   "metadata": {},
   "outputs": [],
   "source": [
    "###################################################################################\n",
    "#################                                              ####################\n",
    "#################               TUPLES                         ####################\n",
    "#################                                              ####################\n",
    "###################################################################################"
   ]
  },
  {
   "cell_type": "code",
   "execution_count": null,
   "metadata": {},
   "outputs": [],
   "source": [
    "\"\"\"\n",
    "####################################################################\n",
    "\n",
    "        + Tuples are commonly used for small collections of values\n",
    "          that will not need to change, such as an IP address and port.\n",
    "        + it is much faster than lists.\n",
    "        + 'tuple' object does not support item assignment.\n",
    "        + indekslenir ama değiştirilemez\n",
    "\n",
    "        + tuple() iterable kabul eder\n",
    "        + tuple() iterable'nin tüm elemanlarını tek tek yazar\n",
    "\n",
    "        + () herşeyi kabul eder\n",
    "        + () verilen şekilde yazdırır\n",
    "\n",
    "        iterable, ordered, immutable\n",
    "\n",
    "###################################################################\n",
    "\"\"\"\n",
    "\n",
    "empty_tuple = ()\n",
    "print(type(empty_tuple))\n",
    "\n",
    "################################################################\n",
    "\n",
    "\"\"\"\n",
    "- tuple.index()\n",
    "- tuple.count()\n",
    "\n",
    "\n",
    "\"\"\""
   ]
  },
  {
   "cell_type": "code",
   "execution_count": null,
   "metadata": {},
   "outputs": [],
   "source": [
    "try_tuple = ('love')\n",
    "\n",
    "print(try_tuple)\n",
    "\n",
    "print(type(try_tuple)) # it's not tuple type.\n",
    "\n",
    "#######################################################\n",
    "\n",
    "try_tuple = ('love',)\n",
    "\n",
    "print(try_tuple)\n",
    "\n",
    "print(type(try_tuple)) # it's tuple type.\n",
    "\n",
    "##########################################################\n",
    "\n",
    "try_tuple = 'love',\n",
    "\n",
    "print(try_tuple)\n",
    "\n",
    "print(type(try_tuple)) # it's tuple type.\n",
    "\n",
    "\n"
   ]
  },
  {
   "cell_type": "code",
   "execution_count": null,
   "metadata": {},
   "outputs": [],
   "source": [
    "###################################################################\n",
    "#################                              ####################\n",
    "#################       DİCTİONARY             ####################\n",
    "#################                              ####################\n",
    "###################################################################"
   ]
  },
  {
   "cell_type": "code",
   "execution_count": null,
   "metadata": {},
   "outputs": [],
   "source": [
    "\"\"\"\n",
    "####################################################################\n",
    "\n",
    "        + set ler gibi aynı key 1 defa kullanılır\n",
    "\n",
    "        + dict() key => value şeklinde olan yapıları kabul eder \n",
    "        + dict() \n",
    "\n",
    "        + {} key => value şeklinde olan yapıları kabul eder\n",
    "        + {} \n",
    "\n",
    "        iterable, \"un\"ordered, mutable\n",
    "\n",
    "###################################################################\n",
    "\"\"\"\n",
    "\n",
    "empty_dict_1 = {}\n",
    "empty_dict_2 = dict()\n",
    "print(type(empty_dict_1))\n",
    "\n",
    "################################################################\n",
    "\n",
    "\"\"\"\n",
    "- dict.items()\n",
    "- dict.keys()\n",
    "- dict.values()\n",
    "\n",
    "\n",
    "\"\"\""
   ]
  },
  {
   "cell_type": "code",
   "execution_count": null,
   "metadata": {},
   "outputs": [],
   "source": [
    "dict([[1,2],[3,4],[4,5]])"
   ]
  },
  {
   "cell_type": "code",
   "execution_count": null,
   "metadata": {},
   "outputs": [],
   "source": [
    "dict_by_dict = dict(animal='dog', planet='neptun', number=40, pi=3.14, is_good=True)\n",
    "\n",
    "print(dict_by_dict)\n"
   ]
  },
  {
   "cell_type": "code",
   "execution_count": null,
   "metadata": {},
   "outputs": [],
   "source": [
    "#dict_by_dict = dict(\"animal\"='dog', \"planet\"='neptun', \"number\"=40, \"pi\"=3.14, \"is_good\"=True)  # keyleri \"\" içine almak hata üretir\n",
    "\n",
    "print(dict_by_dict)\n"
   ]
  },
  {
   "cell_type": "code",
   "execution_count": null,
   "metadata": {},
   "outputs": [],
   "source": [
    "print(dict_by_dict.items())\n"
   ]
  },
  {
   "cell_type": "code",
   "execution_count": null,
   "metadata": {},
   "outputs": [],
   "source": [
    "print(dict_by_dict.keys())\n",
    "print()\n",
    "print(dict_by_dict.values())\n"
   ]
  },
  {
   "cell_type": "code",
   "execution_count": null,
   "metadata": {},
   "outputs": [],
   "source": [
    "print(list(dict_by_dict.keys()))\n",
    "print()\n",
    "print(list(dict_by_dict.values()))\n"
   ]
  },
  {
   "cell_type": "code",
   "execution_count": null,
   "metadata": {},
   "outputs": [],
   "source": [
    "print(tuple(dict_by_dict.keys()))\n",
    "print()\n",
    "print(tuple(dict_by_dict.values()))"
   ]
  },
  {
   "cell_type": "code",
   "execution_count": null,
   "metadata": {},
   "outputs": [],
   "source": [
    "# print(dict(dict_by_dict.keys()))\n",
    "# print()\n",
    "# print(dict(dict_by_dict.values()))  # Hata verir"
   ]
  },
  {
   "cell_type": "code",
   "execution_count": null,
   "metadata": {},
   "outputs": [],
   "source": [
    "\"\"\" \n",
    "                  ----------UPDATE----------\n",
    "\"\"\"\n",
    "\n",
    "dict_by_dict = {'animal': 'dog',\n",
    "                'planet': 'neptun',\n",
    "                'number': 40,\n",
    "                'pi': 3.14,\n",
    "                'is_good': True}\n",
    "\n",
    "dict_by_dict.update({'is_bad': False})\n",
    "\n",
    "print(dict_by_dict)\n"
   ]
  },
  {
   "cell_type": "code",
   "execution_count": null,
   "metadata": {},
   "outputs": [],
   "source": [
    "\"\"\" \n",
    "                  ----------DEL----------\n",
    "\"\"\"\n",
    "\n",
    "dict_by_dict = {'animal': 'dog',\n",
    "               'planet': 'neptun',\n",
    "               'number': 40,\n",
    "               'pi': 3.14,\n",
    "               'is_good': True,\n",
    "               'is_bad': False}\n",
    "\n",
    "del dict_by_dict['animal']\n",
    "\n",
    "print(dict_by_dict) \n"
   ]
  },
  {
   "cell_type": "code",
   "execution_count": null,
   "metadata": {},
   "outputs": [],
   "source": [
    "\"\"\" \n",
    "                  ---------- in , not in ----------\n",
    "\"\"\"\n",
    "\n",
    "dict_by_dict = {'planet': 'neptun',\n",
    "               'number': 40,\n",
    "               'pi': 3.14,\n",
    "               'is_good': True,\n",
    "               'is_bad': False}\n",
    "\n",
    "print('pi' in dict_by_dict) \n",
    "print('animal' not in dict_by_dict)  # remember, we have deleted 'animal'\n"
   ]
  },
  {
   "cell_type": "code",
   "execution_count": null,
   "metadata": {},
   "outputs": [],
   "source": [
    "a = [\"a\", \"b\", \"c\", \"d\"]\n",
    "b = [\"a\" in a]\n",
    "print(b, type(b))"
   ]
  },
  {
   "cell_type": "code",
   "execution_count": null,
   "metadata": {},
   "outputs": [],
   "source": [
    "###################################################################\n",
    "#################                              ####################\n",
    "#################            SETS              ####################\n",
    "#################                              ####################\n",
    "###################################################################"
   ]
  },
  {
   "cell_type": "code",
   "execution_count": null,
   "metadata": {},
   "outputs": [],
   "source": [
    "\"\"\"\n",
    "####################################################################\n",
    "\n",
    "        + Kümelerde sözlüklerde aynı eleman tekrar etmez\n",
    "          sözlüklerde key leri eleman olarak düşün\n",
    "\n",
    "        + \n",
    "\n",
    "        + set() Boş küme tanımlanır, sadece 1 arguman alır\n",
    "        + set() iterable alır, tek tek yazdırır\n",
    "\n",
    "        + {} Boş küme tanımlanamaz, dictionary olur\n",
    "        + {} \n",
    "\n",
    "        iterable, \"un\"ordered, mutable\n",
    "\n",
    "###################################################################\n",
    "\n",
    "\n",
    "+ .add() : Adds a new item to the set.\n",
    "\n",
    "+ .remove() : Allows us to delete an item.\n",
    "\n",
    "+ .intersection() : Returns the intersection of two sets.\n",
    "\n",
    "+ .union() : Returns the unification of two sets.\n",
    "\n",
    "+ .difference() : Gets the difference of two sets.\n",
    "\n",
    "\n",
    "\"\"\"\n",
    "\n",
    "empty_set = set()\n",
    "print(type(empty_set))\n"
   ]
  },
  {
   "cell_type": "code",
   "execution_count": null,
   "metadata": {},
   "outputs": [],
   "source": [
    "# s = set(1,2,3,4) # Tek arguman alır\n",
    "\n",
    "# s = set([[1,2],[3,4],[4,5]]) hata verir\n",
    "\n",
    "s1 = set({1 : '2', 2 : '2', 3 : '2' , 4 : '2'})  # sadece keyleri alır\n",
    " \n",
    "s = set([1,2,3,4])  \n",
    "print(s1) \n",
    "print(s) "
   ]
  },
  {
   "cell_type": "code",
   "execution_count": null,
   "metadata": {},
   "outputs": [],
   "source": [
    "# s = dict(1,2,3,4) # Tek arguman alır\n",
    "\n",
    "# s = dict([1,2,3,4])  # hata verir\n",
    "\n",
    "# s = dict(1 : '2', 2 : '2', 3 : '2' , 4 : '2')   hata verir\n",
    "\n",
    "s = dict({1 : '2', 2 : '2', 3 : '2' , 4 : '2'})  # çalışır\n",
    "\n",
    "s = dict({1 : '2', 1 : '1', 3 : '2' , 4 : '2'}) # aynı key'lerden 2'ncisini seçer, birinci yok olur\n",
    "\n",
    "print(s) "
   ]
  },
  {
   "cell_type": "code",
   "execution_count": null,
   "metadata": {},
   "outputs": [],
   "source": [
    "# [1 : '2', 2 : '2', 3 : '2' , 4 : '2']   hata verir\n",
    "\n",
    "{1 : '2', 2 : '2', 3 : '2' , 4 : '2'} # çalışır"
   ]
  },
  {
   "cell_type": "code",
   "execution_count": null,
   "metadata": {},
   "outputs": [],
   "source": [
    "a = {'carnation', 'orchid', 'rose', 'violet'}\n",
    "b = {'rose', 'orchid', 'rose', 'violet', 'carnation'}\n",
    "\n",
    "print(a)\n",
    "print(b)"
   ]
  },
  {
   "cell_type": "code",
   "execution_count": null,
   "metadata": {},
   "outputs": [],
   "source": [
    "\"\"\"\n",
    "\n",
    "+ .add() : Adds a new item to the set.\n",
    "\n",
    "+ .remove() : Allows us to delete an item.\n",
    "\n",
    "+ .intersection() : Returns the intersection of two sets.\n",
    "\n",
    "+ .union() : Returns the unification of two sets.\n",
    "\n",
    "+ .difference() : Gets the difference of two sets.\n",
    "\n",
    "\"\"\"\n",
    "\n",
    "a = set('abracadabra')\n",
    "b = set('alacazam')\n",
    "\n",
    "print(a)      \n",
    "print(b)      \n"
   ]
  },
  {
   "cell_type": "code",
   "execution_count": null,
   "metadata": {},
   "outputs": [],
   "source": [
    "print(a - b)  # same as '.difference()' method\n",
    "print(a.difference(b)) # a difference from b\n"
   ]
  },
  {
   "cell_type": "code",
   "execution_count": null,
   "metadata": {},
   "outputs": [],
   "source": [
    "print(b - a)  # same as '.difference()' method\n",
    "print(b.difference(a)) # a difference from b\n"
   ]
  },
  {
   "cell_type": "code",
   "execution_count": null,
   "metadata": {},
   "outputs": [],
   "source": [
    "print(a | b)  # same as '.union()' method\n",
    "print(a.union(b)) # unification of a with b"
   ]
  },
  {
   "cell_type": "code",
   "execution_count": null,
   "metadata": {},
   "outputs": [],
   "source": [
    "print(a & b)  # same as '.intersection()' method\n",
    "print(a.intersection(b)) # intersection of a and b"
   ]
  },
  {
   "cell_type": "code",
   "execution_count": null,
   "metadata": {},
   "outputs": [],
   "source": [
    "a = set('abracadabra')\n",
    "print(a)\n",
    "a.remove('b') # we delete 'c' from the set\n",
    "print(a)\n",
    "a.add('b') # we add 'c' again into the set\n",
    "print(a)\n"
   ]
  },
  {
   "cell_type": "code",
   "execution_count": null,
   "metadata": {},
   "outputs": [],
   "source": [
    "# Get the number of set’s elements using len() function,\n",
    "# Check if an element belongs to a specific set(in / not in operators), you get the boolean value."
   ]
  },
  {
   "cell_type": "code",
   "execution_count": null,
   "metadata": {},
   "outputs": [],
   "source": [
    "print(len(set('listen to the voice of enlisted')))\n"
   ]
  },
  {
   "cell_type": "code",
   "execution_count": null,
   "metadata": {},
   "outputs": [],
   "source": [
    "print(len(('listen to the voice of enlisted')))\n"
   ]
  },
  {
   "cell_type": "code",
   "execution_count": null,
   "metadata": {},
   "outputs": [],
   "source": [
    "print((set('listen to the voice of enlisted')))\n"
   ]
  },
  {
   "cell_type": "code",
   "execution_count": null,
   "metadata": {},
   "outputs": [],
   "source": [
    "veli = \"Bugün benim doğum günüm\""
   ]
  },
  {
   "cell_type": "code",
   "execution_count": null,
   "metadata": {},
   "outputs": [],
   "source": [
    "print([veli])\n",
    "print(list(veli))"
   ]
  },
  {
   "cell_type": "code",
   "execution_count": null,
   "metadata": {},
   "outputs": [],
   "source": [
    "print((veli))\n",
    "print(tuple(veli))"
   ]
  },
  {
   "cell_type": "code",
   "execution_count": null,
   "metadata": {},
   "outputs": [],
   "source": [
    "print({veli})\n",
    "print(dict(enumerate(veli)))"
   ]
  },
  {
   "cell_type": "code",
   "execution_count": null,
   "metadata": {},
   "outputs": [],
   "source": [
    "print({veli})\n",
    "print(set(enumerate(veli)))"
   ]
  },
  {
   "cell_type": "code",
   "execution_count": null,
   "metadata": {},
   "outputs": [],
   "source": []
  }
 ],
 "metadata": {
  "kernelspec": {
   "display_name": "Python 3.9.2 64-bit",
   "name": "python392jvsc74a57bd088235260e9f937f3ff47077a9833bd167c34ec72878758c39d1cfa9789a0b5fc"
  },
  "language_info": {
   "codemirror_mode": {
    "name": "ipython",
    "version": 3
   },
   "file_extension": ".py",
   "mimetype": "text/x-python",
   "name": "python",
   "nbconvert_exporter": "python",
   "pygments_lexer": "ipython3",
   "version": "3.9.2"
  },
  "metadata": {
   "interpreter": {
    "hash": "88235260e9f937f3ff47077a9833bd167c34ec72878758c39d1cfa9789a0b5fc"
   }
  },
  "orig_nbformat": 2
 },
 "nbformat": 4,
 "nbformat_minor": 2
}

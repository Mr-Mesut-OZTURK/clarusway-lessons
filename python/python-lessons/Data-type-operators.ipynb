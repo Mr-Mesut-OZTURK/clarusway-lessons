{
 "metadata": {
  "language_info": {
   "codemirror_mode": {
    "name": "ipython",
    "version": 3
   },
   "file_extension": ".py",
   "mimetype": "text/x-python",
   "name": "python",
   "nbconvert_exporter": "python",
   "pygments_lexer": "ipython3",
   "version": "3.9.2"
  },
  "orig_nbformat": 2,
  "kernelspec": {
   "name": "python3",
   "display_name": "Python 3.9.6 64-bit"
  },
  "metadata": {
   "interpreter": {
    "hash": "88235260e9f937f3ff47077a9833bd167c34ec72878758c39d1cfa9789a0b5fc"
   }
  },
  "interpreter": {
   "hash": "88235260e9f937f3ff47077a9833bd167c34ec72878758c39d1cfa9789a0b5fc"
  }
 },
 "nbformat": 4,
 "nbformat_minor": 2,
 "cells": [
  {
   "cell_type": "code",
   "execution_count": 1,
   "metadata": {},
   "outputs": [],
   "source": [
    "a = \"ali\"\n",
    "b = \"1\"\n",
    "c = 3\n",
    "d = 4.53\n",
    "e = 4.46\n",
    "f = True\n",
    "g = 3 + 3j\n"
   ]
  },
  {
   "cell_type": "code",
   "execution_count": 2,
   "metadata": {},
   "outputs": [
    {
     "output_type": "stream",
     "name": "stdout",
     "text": [
      "1\n3\n4\n4\n1\n"
     ]
    }
   ],
   "source": [
    "# print(int(a))  # \"ali\" int         olmaz\n",
    "print(int(b))    # \"1\"  = 1\n",
    "print(int(c))    # zaten int\n",
    "print(int(d))    # 4.53 aşağı yuvarladı\n",
    "print(int(e))    # 4.46 aşağı yuvarladı\n",
    "print(int(f))    # True  1 oldu\n",
    "# print(int(g))  # Karmaşık sayı     olmaz"
   ]
  },
  {
   "cell_type": "code",
   "execution_count": 3,
   "metadata": {},
   "outputs": [
    {
     "output_type": "stream",
     "name": "stdout",
     "text": [
      "ali\n1\n3\n4.53\n4.46\nTrue\n(3+3j)\n"
     ]
    }
   ],
   "source": [
    "print(str(a))    # \n",
    "print(str(b))    # \n",
    "print(str(c))    # \n",
    "print(str(d))    #\n",
    "print(str(e))    #\n",
    "print(str(f))    #\n",
    "print(str(g))    #"
   ]
  },
  {
   "cell_type": "code",
   "execution_count": 4,
   "metadata": {},
   "outputs": [
    {
     "output_type": "stream",
     "name": "stdout",
     "text": [
      "1.0\n3.0\n4.53\n4.46\n1.0\n"
     ]
    }
   ],
   "source": [
    "# print(float(a))  # \"ali\" int       olmaz\n",
    "print(float(b))    # \"1\"  = 1\n",
    "print(float(c))    # zaten int\n",
    "print(float(d))    # 4.53 aşağı yuvarladı\n",
    "print(float(e))    # 4.46 aşağı yuvarladı\n",
    "print(float(f))    # True  1.0 oldu\n",
    "# print(float(g))  # Karmaşık sayı   olmaz"
   ]
  },
  {
   "cell_type": "code",
   "execution_count": 5,
   "metadata": {},
   "outputs": [
    {
     "output_type": "stream",
     "name": "stdout",
     "text": [
      "True\nTrue\nTrue\nTrue\nTrue\nTrue\nTrue\n"
     ]
    }
   ],
   "source": [
    "print(bool(a))    #\n",
    "print(bool(b))    #\n",
    "print(bool(c))    #\n",
    "print(bool(d))    #\n",
    "print(bool(e))    #\n",
    "print(bool(f))    #\n",
    "print(bool(g))    # hepsi True oldu"
   ]
  },
  {
   "cell_type": "code",
   "execution_count": 9,
   "metadata": {},
   "outputs": [
    {
     "output_type": "execute_result",
     "data": {
      "text/plain": [
       "'   Operations\\n\\n - Simple Operations\\n    - \"+\", \"-\", \"*\", \"/\", \"//\", \"%\", \\n - Boolean Operations\\n    - \"and\", \"or\", \"not\"\\n - String Operations\\n    - \"\\n\\n'"
      ]
     },
     "metadata": {},
     "execution_count": 9
    }
   ],
   "source": [
    "\"\"\"   Operations\n",
    "\n",
    " - Simple Operations\n",
    "    - \"+\", \"-\", \"*\", \"/\", \"//\", \"%\", \n",
    " - Boolean Operations\n",
    "    - \"and\", \"or\", \"not\"\n",
    " - String Operations\n",
    "    + \"Searching a String\"\n",
    "        -startswith()\n",
    "        -endswith()\n",
    "    + Changing a String\n",
    "        -str.replace(old, new[, count])\n",
    "        -str.swapcase()\n",
    "        -str.capitalize()\n",
    "        -str.upper()\n",
    "        -str.lower()\n",
    "        -str.title() \n",
    "    + Editing a String\n",
    "        -str.strip()\n",
    "        -str.rstrip()\n",
    "        -str.lstrip()\n",
    "    + split()\n",
    "\n",
    "\"\"\""
   ]
  },
  {
   "cell_type": "code",
   "execution_count": 5,
   "metadata": {},
   "outputs": [
    {
     "output_type": "stream",
     "name": "stdout",
     "text": [
      "True\nTrue\nI LIVE AND WORK IN VIRGINIA\ni live and work in virginia\nI Live And Work In Virginia\ni LIVE AND WORK IN vIRGINIA\nI live and work in Virginia\nlisten first\nnteroperability\n"
     ]
    }
   ],
   "source": [
    "\"\"\" \n",
    " -------------String Operations----------------\n",
    "\n",
    "    + \"Searching a String\"\n",
    "        -startswith()\n",
    "        -endswith()\n",
    "    + Changing a String\n",
    "        -str.replace(old, new[, count])\n",
    "        -str.swapcase()\n",
    "        -str.capitalize()\n",
    "        -str.upper()\n",
    "        -str.lower()\n",
    "        -str.title() \n",
    "    + Editing a String\n",
    "        -str.strip()\n",
    "        -str.rstrip()\n",
    "        -str.lstrip()\n",
    "    + split()\n",
    "\"\"\"\n",
    "####################################################\n",
    "\n",
    "email = \"clarusway@clarusway.com is my e-mail address\"\n",
    "print(email.startswith(\"@\", 9))\n",
    "print(email.endswith(\"u\", 0, 5))\n",
    "\n",
    "#######################################################\n",
    "\n",
    "sentence = \"I live and work in Virginia\"\n",
    "\n",
    "print(sentence.upper())  \n",
    "print(sentence.lower())\n",
    "print(sentence.title())  \n",
    "print(sentence.swapcase())\n",
    "print(sentence)  # note that, source text is unchanged\n",
    "\n",
    "#####################################\n",
    "\n",
    "space_string = \"     listen first      \"\n",
    "print(space_string.strip())  # removes all spaces from both sides\n",
    "\n",
    "source_string = \"interoperability\"\n",
    "print(source_string.lstrip(\"yi\"))  \n",
    "# removes trailing \"y\" or \"i\" or \"yi\" or \"iy\" from left\n"
   ]
  },
  {
   "cell_type": "code",
   "execution_count": 2,
   "metadata": {},
   "outputs": [
    {
     "output_type": "execute_result",
     "data": {
      "text/plain": [
       "'\\n---------String Formatting---------\\n\\n- Arithmetic syntax (+, *, and =),\\n\\n- % operator formatting,\\n\\n- string.format() method,\\n\\n- f-string formatting.\\n\\n\\n'"
      ]
     },
     "metadata": {},
     "execution_count": 2
    }
   ],
   "source": [
    "\"\"\"\n",
    "---------String Formatting---------\n",
    "\n",
    "- Arithmetic syntax (+, *, and =)\n",
    "\n",
    "- % operator formatting\n",
    "\n",
    "- string.format() method\n",
    "\n",
    "- f-string formatting\n",
    "\n",
    "\n",
    "\"\"\""
   ]
  },
  {
   "cell_type": "code",
   "execution_count": 1,
   "metadata": {},
   "outputs": [
    {
     "output_type": "stream",
     "name": "stdout",
     "text": [
      "2 ali\nali ali \n1\n3\nali ali\n"
     ]
    }
   ],
   "source": [
    "\"\"\"   \n",
    "------------Arithmetic syntax (+, *, and =)----------\n",
    "\"\"\"\n",
    "\n",
    "################   doğrular    ######################\n",
    "\n",
    "print(2, \"ali\")\n",
    "print(\"ali \" * 2)\n",
    "print(2 - 1)\n",
    "print(2 + 1)\n",
    "print(\"ali \" + \"ali\")\n",
    "\n",
    "################   yanlışlar    ######################\n",
    "\n",
    "# print(1 + \"ali\")\n",
    "# print(\"ali\" - \"ali\")\n",
    "# print(\"ali\" * \"ali\")"
   ]
  },
  {
   "cell_type": "code",
   "execution_count": 6,
   "metadata": {},
   "outputs": [
    {
     "output_type": "stream",
     "name": "stdout",
     "text": [
      "I have 4 children and 5.00 brothers\napologizing\n33 pounds of bananas left\n"
     ]
    }
   ],
   "source": [
    "\"\"\" \n",
    "----------------% operator formatting------------------\n",
    "\"\"\"\n",
    "\n",
    "######################################################\n",
    "\n",
    "phrase = 'I have %d %s and %.2f brothers' % (4, \"children\", 5)  \n",
    "print (phrase)\n",
    "\n",
    "######################################################\n",
    "\"\"\"\n",
    "In the '%s' syntax   :  s stands for 'string'.\n",
    "In the '%.2f' syntax :  f stands for 'float'. In this example 2 digits after point.\n",
    "In the '%d' syntax   :  d stands for 'numeric'.\n",
    "\"\"\"\n",
    "#########################################################\n",
    "\n",
    "sentence = \"apologizing is a virtue\"\n",
    "print(\"%.11s\" % sentence)  # we get first 11 characters of the string\n",
    "\n",
    "##################################################\n",
    "\n",
    "print('%(amount)d pounds of %(fruit)s left' % {'amount': 33, 'fruit':'bananas'})\n",
    "\n"
   ]
  },
  {
   "cell_type": "code",
   "execution_count": 9,
   "metadata": {},
   "outputs": [
    {
     "output_type": "stream",
     "name": "stdout",
     "text": [
      "The amount of Orange we bought is 4 pounds\nI will have found a job in 6 months\nI will I will I will I will I will I will months\nCalifornia is the most crowded state of the USA\nCalifornia is the most crowded state of the USA\n"
     ]
    }
   ],
   "source": [
    "\"\"\" \n",
    "--------------------string.format() method----------------------- \n",
    "\n",
    "- Be careful not to write keyword arguments before positional arguments.\n",
    "\n",
    "- Eğer Keyword yazdıysan onu numaralı veremezsin\n",
    "\n",
    "\"\"\"\n",
    "###########################################\n",
    "\n",
    "fruit = 'Orange'\n",
    "vegetable = 'Tomato'\n",
    "amount = 4\n",
    "print('The amount of {} we bought is {} pounds'.format(fruit, amount))\n",
    "\n",
    "##############################################################\n",
    "\n",
    "print(\"{6} {0} {5} {3} {4} {1} {2}\".format('have', 6, 'months', 'a job', 'in', 'found', 'I will'))\n",
    "\n",
    "##################################################################\n",
    "\n",
    "print(\"{6} {6} {6} {6} {6} {6} {2}\".format('have', 6, 'months', 'a job', 'in', 'found', 'I will'))\n",
    "\n",
    "###############################################################\n",
    "\n",
    "print('{state} is the most {adjective} state of the {country}'.format(state='California', country='USA', adjective='crowded'))\n",
    "\n",
    "#########################################################\n",
    "\n",
    "print('{0} is the most {adjective} state of the {country}'.format('California', country='USA', adjective='crowded'))\n",
    "\n",
    "##################################################\n",
    "\n",
    "# print('{adjective} is the most {2} state of the {country}'.format('California', country='USA', adjective='crowded'))\n",
    "\n",
    "#####################\n"
   ]
  },
  {
   "cell_type": "code",
   "execution_count": 8,
   "metadata": {},
   "outputs": [
    {
     "output_type": "stream",
     "name": "stdout",
     "text": [
      "The amount of Orange and Tomato we bought are totally 6 pounds\nHi Joseph. You are one of the teachers in the Data Science section.\nHi Joseph. You are one of the teachers in the Data Science section.\n"
     ]
    }
   ],
   "source": [
    "\"\"\"\n",
    "---------------  f-string formatting   ------------------\n",
    "\"\"\"\n",
    "\n",
    "#######################################################\n",
    "\n",
    "fruit = 'Orange'\n",
    "vegetable = 'Tomato'\n",
    "amount = 6\n",
    "output = f\"The amount of {fruit} and {vegetable} we bought are totally {amount} pounds\"\n",
    "\n",
    "print(output)\n",
    "\n",
    "##################################################\n",
    "\n",
    "name = \"Joseph\"\n",
    "job = \"teachers\"\n",
    "domain = \"Data Science\"\n",
    "message = (\n",
    "     f\"Hi {name}. \"\n",
    "     f\"You are one of the {job} \"\n",
    "     f\"in the {domain} section.\"\n",
    ")\n",
    "print(message)\n",
    "\n",
    "##################################################\n",
    "\n",
    "name = \"Joseph\"\n",
    "job = \"teachers\"\n",
    "domain = \"Data Science\"\n",
    "message = f\"Hi {name}. \" \\\n",
    "     f\"You are one of the {job} \" \\\n",
    "     f\"in the {domain} section.\"\n",
    "\n",
    "print(message)\n",
    "\n"
   ]
  },
  {
   "cell_type": "code",
   "execution_count": null,
   "metadata": {},
   "outputs": [],
   "source": []
  }
 ]
}